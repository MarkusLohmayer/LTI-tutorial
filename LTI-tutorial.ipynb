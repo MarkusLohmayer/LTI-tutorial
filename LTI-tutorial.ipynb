{
 "cells": [
  {
   "cell_type": "markdown",
   "metadata": {
    "slideshow": {
     "slide_type": "slide"
    }
   },
   "source": [
    "# A Tutorial on LTI systems\n",
    "\n",
    "A LTI system is a system that is Linear and Time Invariant. These properties will be defined soon!\n",
    "\n",
    "## What is a dynamical system?\n",
    "\n",
    "Our objective is to understand the key concepts of dynamical systems theory\n",
    "for the special case of linear and fully deterministic dynamics.\n",
    "\n",
    "![dynamical system](img/SystemDefinition.pdf)\n",
    "\n",
    "We first destinguish between real-world systems and system models.  \n",
    "For example any kind of machine is a real-world system. Any machine component can be considered a subsystem.  \n",
    "On the other hand, the term \"dynamical system\" usually refers to a mathematical model of a dynamic process.\n",
    "\n",
    "\n",
    "The system boundary, which can theoretically be drawn arbitrarily, defines what parts and mechanisms belong to the system under study. For real-world systems all kinds of quantities (eg. mass, heat, mechanical work, electrical current, ...) can cross the system boundaries. In the case of dynamical systems (i.e. mathematical models) only information enters (inputs) and leaves (outputs) the system."
   ]
  },
  {
   "cell_type": "markdown",
   "metadata": {
    "slideshow": {
     "slide_type": "slide"
    }
   },
   "source": [
    "## Inputs and outputs of a system\n",
    "\n",
    "Any kind of quantity that one could theoretically measure in a real-world system can be an output of the corresponding system model. Hence outputs are signals that depend on the system's internal state. Sometimes outputs are not only functions of internal state but also depend directly (without delay) on the input signals.\n",
    "Outputs signals are used to feed inputs of other systems (i.e. to model interaction between systems) or they are merely quantities that one ultimately want's to model/simulate/predict.\n",
    "\n",
    "Any kind of quantity that does not depend on the system's internal state can be an input to the system. \n",
    "Hence inputs are signals that are fully determined by other systems external to the system under study. They may also be considered properties of the system's environment. For example a building can be considered a system. The outside temperature is an input to that system because it does not depend on the state of the building.\n",
    "\n",
    "As another example consider an electrical motor as one system and an ideal voltage source as another system. The voltage at the motor's terminals is an input of the motor model because it does not depend on the state of the motor, i.e. it does for instance not depend on the ammount of current that the motor draws from the source. If the voltage source is not ideal then the voltage source model needs to adapt its output (voltage) according to the current that is drawn from it. The ammount of current that the motor draws is an output of the motor model that is fed into the voltage source model, so that it can output the right voltage. This example makes clear the nature of inputs an outputs of system models. Even though in a physical sense current flows from the source to the motor the voltage source model consumes the information that the motor model provides."
   ]
  },
  {
   "cell_type": "markdown",
   "metadata": {
    "collapsed": true,
    "slideshow": {
     "slide_type": "slide"
    }
   },
   "source": [
    "## Internal state of the system\n",
    "\n",
    "Every dynamical system has an internal state, which contains information about the degrees of freedom that system. Of course this does not have to include all degrees of freedom that exist. One only needs to model what is actually considered interesting.\n",
    "\n",
    "The state of the dynamical system at some point in time is encoded by a tuple of $n$ real numbers. These numbers form a vector, the so called state vector $\\underline{x}$ of the system. The underlying vector space is called the state space of the system. This can be some Euclidian space ($\\underline{x} \\in \\mathbb{R}^n$) or in theory any kind of geometric manifold.\n",
    "\n",
    "![dynamical system](img/PendulumExample.pdf)\n",
    "\n",
    "If we would have considered a pendulum on a string of fixed length then the position of the mass would naturally be measured in terms of an angle. Since the position is invariant to addition or substraction of $2 \\pi$ one might argue that for this system the natural choice for the state space is a cylinder (Riemannian manifold).\n",
    "\n",
    "The internal state gets updated (either in continous or discrete time) according to the evolution rule of the system. In our case (deterministic, linear systems with finite-dimensional state space) this rule is a tuple of two matrices. The first matrix $\\underline{\\underline{A}}$ is a square matrix and describes how the future state is affected by the current state. The second matrix $\\underline{\\underline{B}}$ describes how the future state is affected by the system inputs.\n",
    "\n",
    "If one in not only interested in steady-state behavior of the system (given some input) but in the transient behavior then it is important to know/specify the initial state of the system."
   ]
  },
  {
   "cell_type": "markdown",
   "metadata": {
    "collapsed": true,
    "slideshow": {
     "slide_type": "slide"
    }
   },
   "source": [
    "## Linearity\n",
    "\n",
    "Consider a map $L : V \\mapsto W$ where $V$ and $W$ are $K$-vector spaces.\n",
    "In our case the scalar field $K = \\mathbb{R}$.\n",
    "\n",
    "$L$ is a linear map if and only if it has two properties, namely\n",
    "- additivity: $L(u + v) = L(u) + L(v)$ with $u,v \\in V$\n",
    "- homogeneity: $L(\\alpha \\cdot v) = \\alpha \\cdot L(v)$ with $\\alpha \\in K$\n",
    "\n",
    "From this definition it follows that $L(0_V) = 0_W$ and that $L(-v) = -L(v)$\n",
    "\n",
    "In the language of systems theory the term superposition principle means that if the input signal $u$ of a linear system produces the output signal $y_1$ and the input $v$ produces the output $y_2$, when fed to the system independently, then the input signal $(u+v)$ (adding signals before feeding them to the system) produces the output $(y_1+y_2)$.  \n",
    "The superposition principle allows for straightforward decomposition and synthesis of signals."
   ]
  },
  {
   "cell_type": "markdown",
   "metadata": {
    "slideshow": {
     "slide_type": "slide"
    }
   },
   "source": [
    " ![dynamical system](img/Linearity.pdf)\n",
    " \n",
    " superposition principle: $\\alpha \\cdot L \\, u + \\beta \\cdot L \\, v = L \\, \\left( \\alpha \\cdot u + \\beta \\cdot v \\right)$"
   ]
  },
  {
   "cell_type": "markdown",
   "metadata": {
    "collapsed": true,
    "slideshow": {
     "slide_type": "slide"
    }
   },
   "source": [
    "## Continous time and discrete time LTI systems\n",
    "\n",
    "### Continous time\n",
    "\n",
    "The dynamical system is a system of first order linear ordinary differential equations.  \n",
    "Note that any higher order ODE can be written as a system of first order ODEs by introducing new variables.\n",
    "For example in the case of the Pendulum we need the state variable velocity, i.e. the first derivative of the state variable position to write the change in momentum as a first order derivative.\n",
    "\n",
    "For a system without inputs we have    \n",
    "$\\dot{\\underline{x}}(t) = \\underline{\\underline{A}} \\, \\underline{x}(t)$  \n",
    "$\\underline{y}(t) = \\underline{\\underline{C}} \\, \\underline{x}(t)$\n",
    "\n",
    "And for a system with inputs $\\underline{u} = \\left[u_1, \\, \\dots, \\, u_m \\right]^{\\mathrm{T}}$ we have  \n",
    "$\\dot{\\underline{x}}(t) = \\underline{\\underline{A}} \\, \\underline{x}(t) + \\underline{\\underline{B}} \\, \\underline{u}(t)$  \n",
    "$\\underline{y}(t) = \\underline{\\underline{C}} \\, \\underline{x}(t) + \\underline{\\underline{D}} \\, \\underline{u}(t)$    \n",
    "In many cases we have $\\underline{\\underline{D}} = \\underline{\\underline{0}}$.\n",
    "\n",
    "The system is called time-invariant because the dynamic behavior of the system does not change over time, i.e. $\\underline{\\underline{A}},\\underline{\\underline{B}},\\underline{\\underline{C}},\\underline{\\underline{D}}$ are constant matrices instead of matrix-valued functions of time."
   ]
  },
  {
   "cell_type": "markdown",
   "metadata": {
    "slideshow": {
     "slide_type": "slide"
    }
   },
   "source": [
    "### Discrete time\n",
    "\n",
    "In the contexts of digital control, computer simulations or system identification and analysis (based on discrete-time sensor signals) it might be more natural to work directly with discrete time models of LTI systems.  \n",
    "In this case all signals are only defined at equally spaced points in time.\n",
    "We write for example $\\underline{x}_k$ instead of $\\underline{x}(k \\cdot \\Delta t)$ where $\\Delta t$ is the sampling frequency.\n",
    "\n",
    "\n",
    "The dynamical system is a system of linear first order difference equations.\n",
    "\n",
    "For a system without inputs we have    \n",
    "$\\underline{x}_{k+1} = \\underline{\\underline{A}} \\, \\underline{x}_{k}$  \n",
    "$\\underline{y}_{k+1} = \\underline{\\underline{C}} \\, \\underline{x}_{k}$\n",
    "\n",
    "And for a system with inputs $\\underline{u} = \\left[u_1, \\, \\dots, \\, u_m \\right]^{\\mathrm{T}}$ we have  \n",
    "$\\underline{x}_{k+1} = \\underline{\\underline{A}} \\, \\underline{x}_{k} + \\underline{\\underline{B}} \\, \\underline{u}_{k}$  \n",
    "$\\underline{y}_{k+1} = \\underline{\\underline{C}} \\, \\underline{x}_{k} + \\underline{\\underline{D}} \\, \\underline{u}_{k}$\n",
    "\n",
    "As long as $\\Delta t \\ll T$ with $T$ the smallest time constant of interest, one does not need to bother about any differences between continuous-time or discrete-time models. "
   ]
  },
  {
   "cell_type": "markdown",
   "metadata": {
    "slideshow": {
     "slide_type": "slide"
    }
   },
   "source": [
    "- [ ] Relevanz für Ingenieure\n",
    "\t- [ ] Modellierung (Zustandsraum-Modell)\n",
    "\t- [ ] Simulation (meist im Zeitbereich aber auch im Frequenzbereich möglich)\n",
    "\t- [ ] Analyse (Resonanzen, Anti-Resonanzen, Stabilität, …)\n",
    "\t- [ ] Lineare Systemtheorie ist vergleichsweise super-einfach und funktioniert in der Praxis meist ausreichend gut, da der/die Betriebszustände a priori bekannt sind (Linearisierung)\n",
    "\tBetriebspunkt wird u.U. durch Regelung stabilisiert/gehalten\n"
   ]
  },
  {
   "cell_type": "code",
   "execution_count": 5,
   "metadata": {
    "collapsed": true,
    "slideshow": {
     "slide_type": "skip"
    }
   },
   "outputs": [],
   "source": [
    "%matplotlib inline\n",
    "import numpy as np\n",
    "import matplotlib.pyplot as plt\n",
    "from scipy import stats\n",
    "import emcee\n",
    "\n",
    "# use seaborn plotting defaults\n",
    "# If this causes an error, you can comment it out.\n",
    "import seaborn as sns\n",
    "sns.set()"
   ]
  },
  {
   "cell_type": "code",
   "execution_count": null,
   "metadata": {
    "collapsed": true
   },
   "outputs": [],
   "source": []
  }
 ],
 "metadata": {
  "celltoolbar": "Slideshow",
  "kernelspec": {
   "display_name": "Python [conda env:lab3]",
   "language": "python",
   "name": "conda-env-lab3-py"
  },
  "language_info": {
   "codemirror_mode": {
    "name": "ipython",
    "version": 3
   },
   "file_extension": ".py",
   "mimetype": "text/x-python",
   "name": "python",
   "nbconvert_exporter": "python",
   "pygments_lexer": "ipython3",
   "version": "3.5.3"
  }
 },
 "nbformat": 4,
 "nbformat_minor": 2
}
